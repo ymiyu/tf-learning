{
  "nbformat": 4,
  "nbformat_minor": 0,
  "metadata": {
    "colab": {
      "name": "Copy of NLP Course - Week 3 Exercise Question.ipynb",
      "version": "0.3.2",
      "provenance": [],
      "collapsed_sections": [],
      "include_colab_link": true
    },
    "kernelspec": {
      "name": "python3",
      "display_name": "Python 3"
    },
    "accelerator": "GPU"
  },
  "cells": [
    {
      "cell_type": "markdown",
      "metadata": {
        "id": "view-in-github",
        "colab_type": "text"
      },
      "source": [
        "<a href=\"https://colab.research.google.com/github/ymiyu/tf-learning/blob/master/Copy_of_NLP_Course_Week_3_Exercise_Question.ipynb\" target=\"_parent\"><img src=\"https://colab.research.google.com/assets/colab-badge.svg\" alt=\"Open In Colab\"/></a>"
      ]
    },
    {
      "cell_type": "code",
      "metadata": {
        "id": "hmA6EzkQJ5jt",
        "colab_type": "code",
        "colab": {}
      },
      "source": [
        "import json\n",
        "import tensorflow as tf\n",
        "import csv\n",
        "import random\n",
        "import numpy as np\n",
        "\n",
        "from tensorflow.keras.preprocessing.text import Tokenizer\n",
        "from tensorflow.keras.preprocessing.sequence import pad_sequences\n",
        "from tensorflow.keras.utils import to_categorical\n",
        "from tensorflow.keras import regularizers\n",
        "\n",
        "\n",
        "embedding_dim = 100\n",
        "max_length = 16\n",
        "trunc_type='post'\n",
        "padding_type='post'\n",
        "oov_tok = \"<OOV>\"\n",
        "training_size= 16000#Your dataset size here. Experiment using smaller values (i.e. 16000), but don't forget to train on at least 160000 to see the best effects\n",
        "test_portion=.1\n",
        "\n",
        "corpus = []\n"
      ],
      "execution_count": 0,
      "outputs": []
    },
    {
      "cell_type": "code",
      "metadata": {
        "id": "bM0l_dORKqE0",
        "colab_type": "code",
        "outputId": "647702ec-7dec-4379-b2eb-fc814d1d96e0",
        "colab": {
          "base_uri": "https://localhost:8080/",
          "height": 233
        }
      },
      "source": [
        "\n",
        "# Note that I cleaned the Stanford dataset to remove LATIN1 encoding to make it easier for Python CSV reader\n",
        "# You can do that yourself with:\n",
        "# iconv -f LATIN1 -t UTF8 training.1600000.processed.noemoticon.csv -o training_cleaned.csv\n",
        "# I then hosted it on my site to make it easier to use in this notebook\n",
        "\n",
        "!wget --no-check-certificate \\\n",
        "    https://storage.googleapis.com/laurencemoroney-blog.appspot.com/training_cleaned.csv \\\n",
        "    -O /tmp/training_cleaned.csv\n",
        "\n",
        "num_sentences = 0\n",
        "\n",
        "with open(\"/tmp/training_cleaned.csv\") as csvfile:\n",
        "    reader = csv.reader(csvfile, delimiter=',')\n",
        "    for row in reader:\n",
        "      # Your Code here. Create list items where the first item is the text, found in row[5], and the second is the label. Note that the label is a '0' or a '4' in the text. When it's the former, make\n",
        "      # your label to be 0, otherwise 1. Keep a count of the number of sentences in num_sentences\n",
        "      # YOUR CODE HERE\n",
        "        list_item=[]\n",
        "        list_item.append(row[5])\n",
        "        this_label=row[0]\n",
        "        if this_label=='0':\n",
        "          list_item.append(0)\n",
        "        else:\n",
        "          list_item.append(1)\n",
        "        num_sentences = num_sentences + 1\n",
        "        corpus.append(list_item)\n",
        "\n",
        "\n"
      ],
      "execution_count": 2,
      "outputs": [
        {
          "output_type": "stream",
          "text": [
            "--2019-07-17 21:23:31--  https://storage.googleapis.com/laurencemoroney-blog.appspot.com/training_cleaned.csv\n",
            "Resolving storage.googleapis.com (storage.googleapis.com)... 74.125.133.128, 2a00:1450:400c:c06::80\n",
            "Connecting to storage.googleapis.com (storage.googleapis.com)|74.125.133.128|:443... connected.\n",
            "HTTP request sent, awaiting response... 200 OK\n",
            "Length: 238942690 (228M) [application/octet-stream]\n",
            "Saving to: ‘/tmp/training_cleaned.csv’\n",
            "\n",
            "/tmp/training_clean 100%[===================>] 227.87M   120MB/s    in 1.9s    \n",
            "\n",
            "2019-07-17 21:23:33 (120 MB/s) - ‘/tmp/training_cleaned.csv’ saved [238942690/238942690]\n",
            "\n"
          ],
          "name": "stdout"
        }
      ]
    },
    {
      "cell_type": "code",
      "metadata": {
        "id": "3kxblBUjEUX-",
        "colab_type": "code",
        "outputId": "32a185df-60ea-4556-8e8c-a0f557bfb15c",
        "colab": {
          "base_uri": "https://localhost:8080/",
          "height": 68
        }
      },
      "source": [
        "print(num_sentences)\n",
        "print(len(corpus))\n",
        "print(corpus[1])\n",
        "\n",
        "# Expected Output:\n",
        "# 1600000\n",
        "# 1600000\n",
        "# [\"is upset that he can't update his Facebook by texting it... and might cry as a result  School today also. Blah!\", 0]"
      ],
      "execution_count": 3,
      "outputs": [
        {
          "output_type": "stream",
          "text": [
            "1600000\n",
            "1600000\n",
            "[\"is upset that he can't update his Facebook by texting it... and might cry as a result  School today also. Blah!\", 0]\n"
          ],
          "name": "stdout"
        }
      ]
    },
    {
      "cell_type": "code",
      "metadata": {
        "id": "ohOGz24lsNAD",
        "colab_type": "code",
        "colab": {}
      },
      "source": [
        "sentences=[]\n",
        "labels=[]\n",
        "random.shuffle(corpus)\n",
        "for x in range(training_size):\n",
        "    sentences.append(corpus[x][0])\n",
        "    labels.append(corpus[x][1])\n",
        "\n",
        "\n",
        "tokenizer = Tokenizer()\n",
        "tokenizer.fit_on_texts(sentences)\n",
        "\n",
        "word_index = tokenizer.word_index\n",
        "vocab_size=len(word_index)\n",
        "\n",
        "sequences = tokenizer.texts_to_sequences(sentences)\n",
        "padded = pad_sequences(sequences, maxlen=max_length, padding=padding_type, truncating=trunc_type)\n",
        "\n",
        "split = int(test_portion * training_size)\n",
        "\n",
        "test_sequences = padded[0:split]\n",
        "training_sequences = padded[split:training_size]\n",
        "test_labels = labels[0:split]\n",
        "training_labels = labels[split:training_size]"
      ],
      "execution_count": 0,
      "outputs": []
    },
    {
      "cell_type": "code",
      "metadata": {
        "id": "gIrtRem1En3N",
        "colab_type": "code",
        "outputId": "ef9a6bb9-b8ee-480f-e1e3-e610dcaa7368",
        "colab": {
          "base_uri": "https://localhost:8080/",
          "height": 51
        }
      },
      "source": [
        "print(vocab_size)\n",
        "print(word_index['i'])\n",
        "# Expected Output\n",
        "# 138858\n",
        "# 1"
      ],
      "execution_count": 5,
      "outputs": [
        {
          "output_type": "stream",
          "text": [
            "26554\n",
            "1\n"
          ],
          "name": "stdout"
        }
      ]
    },
    {
      "cell_type": "code",
      "metadata": {
        "id": "C1zdgJkusRh0",
        "colab_type": "code",
        "outputId": "7b737201-9e17-40d9-9eba-e0a67c8c6c81",
        "colab": {
          "base_uri": "https://localhost:8080/",
          "height": 233
        }
      },
      "source": [
        "# Note this is the 100 dimension version of GloVe from Stanford\n",
        "# I unzipped and hosted it on my site to make this notebook easier\n",
        "!wget --no-check-certificate \\\n",
        "    https://storage.googleapis.com/laurencemoroney-blog.appspot.com/glove.6B.100d.txt \\\n",
        "    -O /tmp/glove.6B.100d.txt\n",
        "embeddings_index = {};\n",
        "with open('/tmp/glove.6B.100d.txt') as f:\n",
        "    for line in f:\n",
        "        values = line.split();\n",
        "        word = values[0];\n",
        "        coefs = np.asarray(values[1:], dtype='float32');\n",
        "        embeddings_index[word] = coefs;\n",
        "\n",
        "embeddings_matrix = np.zeros((vocab_size+1, embedding_dim));\n",
        "for word, i in word_index.items():\n",
        "    embedding_vector = embeddings_index.get(word);\n",
        "    if embedding_vector is not None:\n",
        "        embeddings_matrix[i] = embedding_vector;"
      ],
      "execution_count": 6,
      "outputs": [
        {
          "output_type": "stream",
          "text": [
            "--2019-07-17 21:23:56--  https://storage.googleapis.com/laurencemoroney-blog.appspot.com/glove.6B.100d.txt\n",
            "Resolving storage.googleapis.com (storage.googleapis.com)... 74.125.133.128, 2a00:1450:400c:c06::80\n",
            "Connecting to storage.googleapis.com (storage.googleapis.com)|74.125.133.128|:443... connected.\n",
            "HTTP request sent, awaiting response... 200 OK\n",
            "Length: 347116733 (331M) [text/plain]\n",
            "Saving to: ‘/tmp/glove.6B.100d.txt’\n",
            "\n",
            "/tmp/glove.6B.100d. 100%[===================>] 331.04M   113MB/s    in 2.9s    \n",
            "\n",
            "2019-07-17 21:23:59 (113 MB/s) - ‘/tmp/glove.6B.100d.txt’ saved [347116733/347116733]\n",
            "\n"
          ],
          "name": "stdout"
        }
      ]
    },
    {
      "cell_type": "code",
      "metadata": {
        "id": "71NLk_lpFLNt",
        "colab_type": "code",
        "outputId": "12966535-cf6d-49c1-8ee7-6b8163015089",
        "colab": {
          "base_uri": "https://localhost:8080/",
          "height": 34
        }
      },
      "source": [
        "print(len(embeddings_matrix))\n",
        "# Expected Output\n",
        "# 138859"
      ],
      "execution_count": 7,
      "outputs": [
        {
          "output_type": "stream",
          "text": [
            "26555\n"
          ],
          "name": "stdout"
        }
      ]
    },
    {
      "cell_type": "code",
      "metadata": {
        "colab_type": "code",
        "id": "iKKvbuEBOGFz",
        "colab": {
          "base_uri": "https://localhost:8080/",
          "height": 1000
        },
        "outputId": "8dc6d475-3fbe-421e-b244-b1e4e86fa00a"
      },
      "source": [
        "model = tf.keras.Sequential([\n",
        "    tf.keras.layers.Embedding(vocab_size+1, embedding_dim, input_length=max_length, weights=[embeddings_matrix], trainable=False),\n",
        "    tf.keras.layers.Dropout(0.2),\n",
        "    tf.keras.layers.Conv1D(64, 5, activation='relu'),\n",
        "    tf.keras.layers.MaxPooling1D(pool_size=4),\n",
        "    tf.keras.layers.LSTM(64),\n",
        "    tf.keras.layers.Dense(1, activation='sigmoid')# YOUR CODE HERE - experiment with combining different types, such as convolutions and LSTMs\n",
        "])\n",
        "model.compile(loss='binary_crossentropy', optimizer='adam', metrics=['accuracy'])\n",
        "model.summary()\n",
        "\n",
        "num_epochs = 50\n",
        "history = model.fit(training_sequences, training_labels, epochs=num_epochs, validation_data=(test_sequences, test_labels), verbose=2)\n",
        "\n",
        "print(\"Training Complete\")\n"
      ],
      "execution_count": 11,
      "outputs": [
        {
          "output_type": "stream",
          "text": [
            "W0717 21:30:55.770623 139959731844992 deprecation.py:323] From /usr/local/lib/python3.6/dist-packages/tensorflow/python/ops/nn_impl.py:180: add_dispatch_support.<locals>.wrapper (from tensorflow.python.ops.array_ops) is deprecated and will be removed in a future version.\n",
            "Instructions for updating:\n",
            "Use tf.where in 2.0, which has the same broadcast rule as np.where\n"
          ],
          "name": "stderr"
        },
        {
          "output_type": "stream",
          "text": [
            "Model: \"sequential\"\n",
            "_________________________________________________________________\n",
            "Layer (type)                 Output Shape              Param #   \n",
            "=================================================================\n",
            "embedding_2 (Embedding)      (None, 16, 100)           2655500   \n",
            "_________________________________________________________________\n",
            "dropout_2 (Dropout)          (None, 16, 100)           0         \n",
            "_________________________________________________________________\n",
            "conv1d_1 (Conv1D)            (None, 12, 64)            32064     \n",
            "_________________________________________________________________\n",
            "max_pooling1d_1 (MaxPooling1 (None, 3, 64)             0         \n",
            "_________________________________________________________________\n",
            "lstm_1 (LSTM)                (None, 64)                33024     \n",
            "_________________________________________________________________\n",
            "dense (Dense)                (None, 1)                 65        \n",
            "=================================================================\n",
            "Total params: 2,720,653\n",
            "Trainable params: 65,153\n",
            "Non-trainable params: 2,655,500\n",
            "_________________________________________________________________\n",
            "Train on 14400 samples, validate on 1600 samples\n",
            "Epoch 1/50\n",
            "14400/14400 - 8s - loss: 0.6321 - acc: 0.6391 - val_loss: 0.5925 - val_acc: 0.6800\n",
            "Epoch 2/50\n",
            "14400/14400 - 5s - loss: 0.5755 - acc: 0.6926 - val_loss: 0.5808 - val_acc: 0.6800\n",
            "Epoch 3/50\n",
            "14400/14400 - 5s - loss: 0.5371 - acc: 0.7236 - val_loss: 0.5608 - val_acc: 0.6950\n",
            "Epoch 4/50\n",
            "14400/14400 - 5s - loss: 0.5112 - acc: 0.7465 - val_loss: 0.5613 - val_acc: 0.7019\n",
            "Epoch 5/50\n",
            "14400/14400 - 5s - loss: 0.4793 - acc: 0.7685 - val_loss: 0.5898 - val_acc: 0.6981\n",
            "Epoch 6/50\n",
            "14400/14400 - 5s - loss: 0.4533 - acc: 0.7794 - val_loss: 0.5845 - val_acc: 0.7163\n",
            "Epoch 7/50\n",
            "14400/14400 - 5s - loss: 0.4314 - acc: 0.7972 - val_loss: 0.6293 - val_acc: 0.6956\n",
            "Epoch 8/50\n",
            "14400/14400 - 5s - loss: 0.4048 - acc: 0.8124 - val_loss: 0.6144 - val_acc: 0.6894\n",
            "Epoch 9/50\n",
            "14400/14400 - 5s - loss: 0.3827 - acc: 0.8248 - val_loss: 0.6221 - val_acc: 0.6888\n",
            "Epoch 10/50\n",
            "14400/14400 - 5s - loss: 0.3649 - acc: 0.8353 - val_loss: 0.6318 - val_acc: 0.6750\n",
            "Epoch 11/50\n",
            "14400/14400 - 5s - loss: 0.3520 - acc: 0.8436 - val_loss: 0.6529 - val_acc: 0.6919\n",
            "Epoch 12/50\n",
            "14400/14400 - 5s - loss: 0.3377 - acc: 0.8499 - val_loss: 0.6392 - val_acc: 0.6975\n",
            "Epoch 13/50\n",
            "14400/14400 - 5s - loss: 0.3241 - acc: 0.8549 - val_loss: 0.7054 - val_acc: 0.6900\n",
            "Epoch 14/50\n",
            "14400/14400 - 5s - loss: 0.3055 - acc: 0.8682 - val_loss: 0.6852 - val_acc: 0.6906\n",
            "Epoch 15/50\n",
            "14400/14400 - 5s - loss: 0.2993 - acc: 0.8708 - val_loss: 0.6951 - val_acc: 0.6950\n",
            "Epoch 16/50\n",
            "14400/14400 - 5s - loss: 0.2861 - acc: 0.8739 - val_loss: 0.7024 - val_acc: 0.6938\n",
            "Epoch 17/50\n",
            "14400/14400 - 5s - loss: 0.2731 - acc: 0.8835 - val_loss: 0.7480 - val_acc: 0.6944\n",
            "Epoch 18/50\n",
            "14400/14400 - 5s - loss: 0.2727 - acc: 0.8799 - val_loss: 0.7611 - val_acc: 0.6806\n",
            "Epoch 19/50\n",
            "14400/14400 - 5s - loss: 0.2633 - acc: 0.8917 - val_loss: 0.7416 - val_acc: 0.6931\n",
            "Epoch 20/50\n",
            "14400/14400 - 5s - loss: 0.2557 - acc: 0.8924 - val_loss: 0.7811 - val_acc: 0.6750\n",
            "Epoch 21/50\n",
            "14400/14400 - 5s - loss: 0.2442 - acc: 0.8958 - val_loss: 0.7748 - val_acc: 0.6938\n",
            "Epoch 22/50\n",
            "14400/14400 - 5s - loss: 0.2452 - acc: 0.8950 - val_loss: 0.7609 - val_acc: 0.6925\n",
            "Epoch 23/50\n",
            "14400/14400 - 5s - loss: 0.2282 - acc: 0.9017 - val_loss: 0.8233 - val_acc: 0.6881\n",
            "Epoch 24/50\n",
            "14400/14400 - 5s - loss: 0.2284 - acc: 0.9040 - val_loss: 0.8410 - val_acc: 0.6875\n",
            "Epoch 25/50\n",
            "14400/14400 - 5s - loss: 0.2218 - acc: 0.9087 - val_loss: 0.7994 - val_acc: 0.6906\n",
            "Epoch 26/50\n",
            "14400/14400 - 5s - loss: 0.2236 - acc: 0.9063 - val_loss: 0.8155 - val_acc: 0.7013\n",
            "Epoch 27/50\n",
            "14400/14400 - 5s - loss: 0.2174 - acc: 0.9090 - val_loss: 0.8156 - val_acc: 0.7006\n",
            "Epoch 28/50\n",
            "14400/14400 - 5s - loss: 0.2076 - acc: 0.9115 - val_loss: 0.8374 - val_acc: 0.6913\n",
            "Epoch 29/50\n",
            "14400/14400 - 5s - loss: 0.2011 - acc: 0.9147 - val_loss: 0.8692 - val_acc: 0.6894\n",
            "Epoch 30/50\n",
            "14400/14400 - 5s - loss: 0.1951 - acc: 0.9199 - val_loss: 0.9449 - val_acc: 0.6900\n",
            "Epoch 31/50\n",
            "14400/14400 - 5s - loss: 0.1959 - acc: 0.9208 - val_loss: 0.9036 - val_acc: 0.6944\n",
            "Epoch 32/50\n",
            "14400/14400 - 5s - loss: 0.1895 - acc: 0.9216 - val_loss: 0.9410 - val_acc: 0.6725\n",
            "Epoch 33/50\n",
            "14400/14400 - 5s - loss: 0.1890 - acc: 0.9228 - val_loss: 0.9178 - val_acc: 0.6900\n",
            "Epoch 34/50\n",
            "14400/14400 - 5s - loss: 0.1886 - acc: 0.9224 - val_loss: 0.9192 - val_acc: 0.6769\n",
            "Epoch 35/50\n",
            "14400/14400 - 5s - loss: 0.1798 - acc: 0.9283 - val_loss: 0.9408 - val_acc: 0.6806\n",
            "Epoch 36/50\n",
            "14400/14400 - 5s - loss: 0.1872 - acc: 0.9226 - val_loss: 0.9577 - val_acc: 0.6775\n",
            "Epoch 37/50\n",
            "14400/14400 - 5s - loss: 0.1726 - acc: 0.9272 - val_loss: 0.9885 - val_acc: 0.6737\n",
            "Epoch 38/50\n",
            "14400/14400 - 5s - loss: 0.1739 - acc: 0.9296 - val_loss: 0.9728 - val_acc: 0.6750\n",
            "Epoch 39/50\n",
            "14400/14400 - 5s - loss: 0.1755 - acc: 0.9312 - val_loss: 0.9420 - val_acc: 0.6787\n",
            "Epoch 40/50\n",
            "14400/14400 - 5s - loss: 0.1703 - acc: 0.9302 - val_loss: 1.0068 - val_acc: 0.6750\n",
            "Epoch 41/50\n",
            "14400/14400 - 5s - loss: 0.1682 - acc: 0.9328 - val_loss: 0.9802 - val_acc: 0.6712\n",
            "Epoch 42/50\n",
            "14400/14400 - 5s - loss: 0.1683 - acc: 0.9324 - val_loss: 0.9540 - val_acc: 0.6744\n",
            "Epoch 43/50\n",
            "14400/14400 - 5s - loss: 0.1576 - acc: 0.9365 - val_loss: 1.0792 - val_acc: 0.6750\n",
            "Epoch 44/50\n",
            "14400/14400 - 5s - loss: 0.1607 - acc: 0.9342 - val_loss: 0.9772 - val_acc: 0.6825\n",
            "Epoch 45/50\n",
            "14400/14400 - 5s - loss: 0.1659 - acc: 0.9340 - val_loss: 0.9927 - val_acc: 0.6675\n",
            "Epoch 46/50\n",
            "14400/14400 - 5s - loss: 0.1534 - acc: 0.9378 - val_loss: 1.0465 - val_acc: 0.6862\n",
            "Epoch 47/50\n",
            "14400/14400 - 5s - loss: 0.1481 - acc: 0.9415 - val_loss: 1.0045 - val_acc: 0.6769\n",
            "Epoch 48/50\n",
            "14400/14400 - 5s - loss: 0.1581 - acc: 0.9369 - val_loss: 1.0441 - val_acc: 0.6856\n",
            "Epoch 49/50\n",
            "14400/14400 - 5s - loss: 0.1473 - acc: 0.9403 - val_loss: 1.1317 - val_acc: 0.6819\n",
            "Epoch 50/50\n",
            "14400/14400 - 5s - loss: 0.1465 - acc: 0.9401 - val_loss: 1.0639 - val_acc: 0.6837\n",
            "Training Complete\n"
          ],
          "name": "stdout"
        }
      ]
    },
    {
      "cell_type": "code",
      "metadata": {
        "id": "qxju4ItJKO8F",
        "colab_type": "code",
        "colab": {
          "base_uri": "https://localhost:8080/",
          "height": 607
        },
        "outputId": "9d4aa294-67ea-4459-f95b-66737f33bd39"
      },
      "source": [
        "import matplotlib.image  as mpimg\n",
        "import matplotlib.pyplot as plt\n",
        "\n",
        "#-----------------------------------------------------------\n",
        "# Retrieve a list of list results on training and test data\n",
        "# sets for each training epoch\n",
        "#-----------------------------------------------------------\n",
        "acc=history.history['acc']\n",
        "val_acc=history.history['val_acc']\n",
        "loss=history.history['loss']\n",
        "val_loss=history.history['val_loss']\n",
        "\n",
        "epochs=range(len(acc)) # Get number of epochs\n",
        "\n",
        "#------------------------------------------------\n",
        "# Plot training and validation accuracy per epoch\n",
        "#------------------------------------------------\n",
        "plt.plot(epochs, acc, 'r')\n",
        "plt.plot(epochs, val_acc, 'b')\n",
        "plt.title('Training and validation accuracy')\n",
        "plt.xlabel(\"Epochs\")\n",
        "plt.ylabel(\"Accuracy\")\n",
        "plt.legend([\"Accuracy\", \"Validation Accuracy\"])\n",
        "\n",
        "plt.figure()\n",
        "\n",
        "#------------------------------------------------\n",
        "# Plot training and validation loss per epoch\n",
        "#------------------------------------------------\n",
        "plt.plot(epochs, loss, 'r')\n",
        "plt.plot(epochs, val_loss, 'b')\n",
        "plt.title('Training and validation loss')\n",
        "plt.xlabel(\"Epochs\")\n",
        "plt.ylabel(\"Loss\")\n",
        "plt.legend([\"Loss\", \"Validation Loss\"])\n",
        "\n",
        "plt.figure()\n",
        "\n",
        "\n",
        "# Expected Output\n",
        "# A chart where the validation loss does not increase sharply!"
      ],
      "execution_count": 12,
      "outputs": [
        {
          "output_type": "execute_result",
          "data": {
            "text/plain": [
              "<Figure size 432x288 with 0 Axes>"
            ]
          },
          "metadata": {
            "tags": []
          },
          "execution_count": 12
        },
        {
          "output_type": "display_data",
          "data": {
            "image/png": "[encoded data removed]",
            "text/plain": [
              "<Figure size 432x288 with 1 Axes>"
            ]
          },
          "metadata": {
            "tags": []
          }
        },
        {
          "output_type": "display_data",
          "data": {
            "image/png": "[encoded data removed]",
            "text/plain": [
              "<Figure size 432x288 with 1 Axes>"
            ]
          },
          "metadata": {
            "tags": []
          }
        },
        {
          "output_type": "display_data",
          "data": {
            "text/plain": [
              "<Figure size 432x288 with 0 Axes>"
            ]
          },
          "metadata": {
            "tags": []
          }
        }
      ]
    },
    {
      "cell_type": "code",
      "metadata": {
        "id": "PDni0chv3PNw",
        "colab_type": "code",
        "colab": {}
      },
      "source": [
        ""
      ],
      "execution_count": 0,
      "outputs": []
    }
  ]
}